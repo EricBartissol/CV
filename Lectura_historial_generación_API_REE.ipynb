{
  "nbformat": 4,
  "nbformat_minor": 0,
  "metadata": {
    "colab": {
      "name": "Lectura historial generación API REE.ipynb",
      "provenance": [],
      "toc_visible": true,
      "mount_file_id": "1yVREveiMbmsBiaplkpFat9cJc-r9rWGV",
      "authorship_tag": "ABX9TyP6Z3DXuujuMBiwlXFPRZEB",
      "include_colab_link": true
    },
    "kernelspec": {
      "name": "python3",
      "display_name": "Python 3"
    }
  },
  "cells": [
    {
      "cell_type": "markdown",
      "metadata": {
        "id": "view-in-github",
        "colab_type": "text"
      },
      "source": [
        "<a href=\"https://colab.research.google.com/github/EricBartissol/CV/blob/gh-pages/Lectura_historial_generaci%C3%B3n_API_REE.ipynb\" target=\"_parent\"><img src=\"https://colab.research.google.com/assets/colab-badge.svg\" alt=\"Open In Colab\"/></a>"
      ]
    },
    {
      "cell_type": "markdown",
      "metadata": {
        "id": "DB9Zn7VG7d9g"
      },
      "source": [
        "### Consulta historial composicion de generacion "
      ]
    },
    {
      "cell_type": "markdown",
      "metadata": {
        "id": "kN4u-q577y8P"
      },
      "source": [
        "# Import"
      ]
    },
    {
      "cell_type": "code",
      "metadata": {
        "id": "hvY-vvMr7GQy"
      },
      "source": [
        "import pandas as pd\r\n",
        "import requests as requests\r\n",
        "import json\r\n",
        "import datetime as dt\r\n",
        "from dateutil.relativedelta import *"
      ],
      "execution_count": null,
      "outputs": []
    },
    {
      "cell_type": "markdown",
      "metadata": {
        "id": "jYCenB9eXLUI"
      },
      "source": [
        "# Configuracion \r\n"
      ]
    },
    {
      "cell_type": "markdown",
      "metadata": {
        "id": "17m_X3dUX41c"
      },
      "source": [
        "fuente:  https://www.ree.es/es/apidatos\r\n",
        "\r\n",
        "Las consultas de composicion de generacion a traves de la API de REE limitan a 744 lecturas horarias (31 dias).\r\n",
        "\r\n",
        "El programa siguiente realiza una serie de consultas para recuperar los datos de consultas entre dos fechas separadas de mas de 31 dias e importarlas en un dataframe.\r\n",
        "\r\n",
        "En el bloque siguiente se definen las fechas de incio y de final de las consulta ambos meses inclusivos.\r\n"
      ]
    },
    {
      "cell_type": "code",
      "metadata": {
        "id": "6dAkm0H5UhyS"
      },
      "source": [
        "inicio = dt.datetime(2014,1,1,0,0)\r\n",
        "final = dt.datetime(2016,12,1,0,0)"
      ],
      "execution_count": null,
      "outputs": []
    },
    {
      "cell_type": "markdown",
      "metadata": {
        "id": "8ihheDLFuouH"
      },
      "source": [
        "# Function Request and get data\r\n",
        "la fucntion definida a continuacion permite leer los datos del balance electrico de un año completo y guardarlos en un dataframe"
      ]
    },
    {
      "cell_type": "code",
      "metadata": {
        "id": "8ERhx-Ep_SGX"
      },
      "source": [
        "# Entrad un dia del mes \r\n",
        "\r\n",
        "def generacionRee(fecha):\r\n",
        "  \"\"\"DOCSTRING_DE_FUNCION\"\"\"\r\n",
        "\r\n",
        "  # Preparacion datos de consulta\r\n",
        "  lang = 'es'\r\n",
        "  category = 'balance'\r\n",
        "  widget = 'balance-electrico'\r\n",
        "\r\n",
        "  # Preparacion fechas de consulta\r\n",
        "  start_date = dt.datetime(fecha.year,fecha.month,1,0,0)\r\n",
        "  end_date = start_date+relativedelta(months=1,hours=-1)\r\n",
        "  start_date = start_date.strftime('%Y-%m-01T00:00')\r\n",
        "  end_date = end_date.strftime('%Y-%m-%dT%H:00')\r\n",
        "\r\n",
        "  # Creacion de la consulta\r\n",
        "  query= 'start_date='+start_date+'&end_date='+end_date+'&time_trunc=day'\r\n",
        "\r\n",
        "  # Consulta\r\n",
        "  getUrl = 'https://apidatos.ree.es/' + lang + '/datos/' + category + '/' + widget + '?' + query\r\n",
        "\r\n",
        "  # Lectura\r\n",
        "  response = requests.get(getUrl).json()\r\n",
        "\r\n",
        "  \r\n",
        "  # Preparacion lectura en DataFrame\r\n",
        "  df_lectura = pd.DataFrame({'datetime':[],'grupo':[], 'tipo':[], 'agregado':[], 'energia':[]} )\r\n",
        "  for i in response['included']:\r\n",
        "    grupo=i['type']\r\n",
        "    for j in i['attributes']['content']:\r\n",
        "      tipo=j['type']\r\n",
        "      agregado=j['attributes']['type']\r\n",
        "      for k in j['attributes']['values']:\r\n",
        "        if agregado == 'distinct':\r\n",
        "          datetime=k['datetime']\r\n",
        "          energia=k['value']\r\n",
        "          df_lectura=df_lectura.append({'datetime':datetime,'grupo':grupo, 'tipo':tipo, 'agregado':agregado, 'energia':energia},ignore_index=True)\r\n",
        "\r\n",
        "  return  df_lectura"
      ],
      "execution_count": null,
      "outputs": []
    },
    {
      "cell_type": "markdown",
      "metadata": {
        "id": "503QF8lDKuZE"
      },
      "source": [
        "# Creacion del DataFrame sobre todo el periodo\r\n"
      ]
    },
    {
      "cell_type": "code",
      "metadata": {
        "id": "xOaqr-5G7had"
      },
      "source": [
        "datos = pd.DataFrame({'datetime':[],'grupo':[], 'tipo':[], 'agregado':[], 'energia':[]} )"
      ],
      "execution_count": null,
      "outputs": []
    },
    {
      "cell_type": "code",
      "metadata": {
        "id": "pGli_N9sLMKW"
      },
      "source": [
        "\r\n",
        "fecha = inicio\r\n",
        "\r\n",
        "while fecha<=final:\r\n",
        "  datos = datos.append(generacionRee(fecha))\r\n",
        "  fecha = fecha+relativedelta(months=1)\r\n"
      ],
      "execution_count": null,
      "outputs": []
    },
    {
      "cell_type": "markdown",
      "metadata": {
        "id": "mm3ytBidS85S"
      },
      "source": [
        "# Guardar como csv"
      ]
    },
    {
      "cell_type": "code",
      "metadata": {
        "id": "AfSCSxKTvBPI"
      },
      "source": [
        "datos.to_csv('generacion.csv',index=False)"
      ],
      "execution_count": null,
      "outputs": []
    },
    {
      "cell_type": "code",
      "metadata": {
        "id": "DZqc01YZvBK_"
      },
      "source": [
        ""
      ],
      "execution_count": null,
      "outputs": []
    },
    {
      "cell_type": "code",
      "metadata": {
        "id": "WJHg-vlRvBBx"
      },
      "source": [
        ""
      ],
      "execution_count": null,
      "outputs": []
    },
    {
      "cell_type": "code",
      "metadata": {
        "id": "7B1XxGYOZlt2"
      },
      "source": [
        "# https://www.ree.es/es/apidatos\r\n",
        "# formato:\r\n",
        "# > GET /{lang}/datos/{category}/{widget}?[query]\r\n",
        "# ejemplo:\r\n",
        "# >https://apidatos.ree.es/es/datos/balance/balance-electrico?start_date=2019-01-01T00:00&end_date=2019-01-31T22:00&time_trunc=day\r\n",
        "\r\n",
        "\r\n",
        "# https://api.esios.ree.es/archives/70/download_json?locale=es&date=2020-01-30"
      ],
      "execution_count": null,
      "outputs": []
    }
  ]
}